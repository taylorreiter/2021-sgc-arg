{
 "cells": [
  {
   "cell_type": "markdown",
   "metadata": {},
   "source": [
    "Make conf files for spacegraphcats queries"
   ]
  },
  {
   "cell_type": "code",
   "execution_count": 1,
   "metadata": {},
   "outputs": [],
   "source": [
    "import yaml\n",
    "import io\n",
    "import pandas as pd\n",
    "import re"
   ]
  },
  {
   "cell_type": "code",
   "execution_count": 2,
   "metadata": {},
   "outputs": [],
   "source": [
    "SAMPLES = ['HSM67VF9', 'HSM67VFD', 'HSM67VFJ', 'HSM6XRQB',\n",
    "           'HSM6XRQI', 'HSM6XRQK', 'HSM6XRQM', 'HSM6XRQO',\n",
    "           'HSM7CYY7', 'HSM7CYY9', 'HSM7CYYB', 'HSM7CYYD']"
   ]
  },
  {
   "cell_type": "markdown",
   "metadata": {},
   "source": [
    "Example conf file\n",
    "\n",
    "```\n",
    "catlas_base: MSM79H58\n",
    "input_sequences:\n",
    "- outputs/abundtrim/MSM79H58.abundtrim.fq.gz\n",
    "ksize: 31\n",
    "radius: 1\n",
    "search:\n",
    "- outputs/arg90_matches/cfxA4_AY769933.fna\n",
    "searchquick:\n",
    "- outputs/arg90_matches/cfxA4_AY769933.fna\n",
    "```"
   ]
  },
  {
   "cell_type": "code",
   "execution_count": 3,
   "metadata": {},
   "outputs": [],
   "source": [
    "args = [\"cfxA4_AY769933.fna\"]"
   ]
  },
  {
   "cell_type": "code",
   "execution_count": 4,
   "metadata": {},
   "outputs": [
    {
     "data": {
      "text/plain": [
       "1"
      ]
     },
     "execution_count": 4,
     "metadata": {},
     "output_type": "execute_result"
    }
   ],
   "source": [
    "len(args)"
   ]
  },
  {
   "cell_type": "code",
   "execution_count": 5,
   "metadata": {},
   "outputs": [],
   "source": [
    "paths = [\"outputs/arg90_matches/\" + arg for arg in args]"
   ]
  },
  {
   "cell_type": "code",
   "execution_count": 11,
   "metadata": {},
   "outputs": [],
   "source": [
    "for sample in SAMPLES:\n",
    "    yml = {'catlas_base': sample,\n",
    "           'input_sequences': ['outputs/abundtrim/' + sample + '.abundtrim.fq.gz'],\n",
    "           'ksize': 31, \n",
    "           'radius': 1,\n",
    "           'search': paths,\n",
    "           'searchquick': paths[0]}\n",
    "    with io.open(\"../outputs/sgc_conf/\" + sample + '_r1_conf.yml', 'w', encoding='utf8') as outfile:\n",
    "        yaml.dump(yml, outfile, default_flow_style=False, allow_unicode=True, sort_keys=False)"
   ]
  },
  {
   "cell_type": "code",
   "execution_count": 7,
   "metadata": {},
   "outputs": [],
   "source": [
    "for sample in SAMPLES:\n",
    "    yml = {'catlas_base': sample,\n",
    "           'input_sequences': ['outputs/abundtrim/' + sample + '.abundtrim.fq.gz'],\n",
    "           'ksize': 31, \n",
    "           'radius': 5,\n",
    "           'search': paths,\n",
    "           'searchquick': paths[0]}\n",
    "    with io.open(\"../outputs/sgc_conf/\" + sample + '_r5_conf.yml', 'w', encoding='utf8') as outfile:\n",
    "        yaml.dump(yml, outfile, default_flow_style=False, allow_unicode=True, sort_keys=False)"
   ]
  },
  {
   "cell_type": "code",
   "execution_count": null,
   "metadata": {},
   "outputs": [],
   "source": []
  }
 ],
 "metadata": {
  "kernelspec": {
   "display_name": "Python 3",
   "language": "python",
   "name": "python3"
  },
  "language_info": {
   "codemirror_mode": {
    "name": "ipython",
    "version": 3
   },
   "file_extension": ".py",
   "mimetype": "text/x-python",
   "name": "python",
   "nbconvert_exporter": "python",
   "pygments_lexer": "ipython3",
   "version": "3.7.8"
  }
 },
 "nbformat": 4,
 "nbformat_minor": 2
}
